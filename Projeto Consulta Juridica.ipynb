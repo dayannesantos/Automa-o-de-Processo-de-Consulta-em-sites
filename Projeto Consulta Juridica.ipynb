{
 "cells": [
  {
   "cell_type": "code",
   "execution_count": 7,
   "id": "a5bbebcb",
   "metadata": {},
   "outputs": [],
   "source": [
    "# criar o navegador\n",
    "from selenium import webdriver\n",
    "from selenium.webdriver.common.by import By\n",
    "\n",
    "driver = webdriver.Chrome()"
   ]
  },
  {
   "cell_type": "code",
   "execution_count": 8,
   "id": "b1863ba7",
   "metadata": {},
   "outputs": [],
   "source": [
    "# abrir a página index (entrar no site da busca jurídica)\n",
    "import os\n",
    "\n",
    "file_path = os.getcwd()\n",
    "file = file_path + r\"\\index.html\""
   ]
  },
  {
   "cell_type": "code",
   "execution_count": 9,
   "id": "08a27004",
   "metadata": {},
   "outputs": [
    {
     "data": {
      "text/html": [
       "<div>\n",
       "<style scoped>\n",
       "    .dataframe tbody tr th:only-of-type {\n",
       "        vertical-align: middle;\n",
       "    }\n",
       "\n",
       "    .dataframe tbody tr th {\n",
       "        vertical-align: top;\n",
       "    }\n",
       "\n",
       "    .dataframe thead th {\n",
       "        text-align: right;\n",
       "    }\n",
       "</style>\n",
       "<table border=\"1\" class=\"dataframe\">\n",
       "  <thead>\n",
       "    <tr style=\"text-align: right;\">\n",
       "      <th></th>\n",
       "      <th>Nome</th>\n",
       "      <th>Advogado</th>\n",
       "      <th>Processo</th>\n",
       "      <th>Cidade</th>\n",
       "      <th>Status</th>\n",
       "    </tr>\n",
       "  </thead>\n",
       "  <tbody>\n",
       "    <tr>\n",
       "      <th>0</th>\n",
       "      <td>Lira</td>\n",
       "      <td>Alon Lawyer</td>\n",
       "      <td>PC6592</td>\n",
       "      <td>Distrito Federal</td>\n",
       "      <td>NaN</td>\n",
       "    </tr>\n",
       "    <tr>\n",
       "      <th>1</th>\n",
       "      <td>João</td>\n",
       "      <td>Lawyer Alon</td>\n",
       "      <td>EB3792</td>\n",
       "      <td>Rio de Janeiro</td>\n",
       "      <td>NaN</td>\n",
       "    </tr>\n",
       "    <tr>\n",
       "      <th>2</th>\n",
       "      <td>Amanda</td>\n",
       "      <td>Amanda mesmo</td>\n",
       "      <td>MM1043</td>\n",
       "      <td>Rio de Janeiro</td>\n",
       "      <td>NaN</td>\n",
       "    </tr>\n",
       "    <tr>\n",
       "      <th>3</th>\n",
       "      <td>Carol</td>\n",
       "      <td>Amanda</td>\n",
       "      <td>PC5197</td>\n",
       "      <td>São Paulo</td>\n",
       "      <td>NaN</td>\n",
       "    </tr>\n",
       "  </tbody>\n",
       "</table>\n",
       "</div>"
      ],
      "text/plain": [
       "     Nome      Advogado Processo            Cidade  Status\n",
       "0    Lira   Alon Lawyer   PC6592  Distrito Federal     NaN\n",
       "1    João   Lawyer Alon   EB3792    Rio de Janeiro     NaN\n",
       "2  Amanda  Amanda mesmo   MM1043    Rio de Janeiro     NaN\n",
       "3   Carol        Amanda   PC5197         São Paulo     NaN"
      ]
     },
     "metadata": {},
     "output_type": "display_data"
    }
   ],
   "source": [
    "# importar a base de dados\n",
    "import pandas as pd\n",
    "\n",
    "database = pd.read_excel('Processos.xlsx')\n",
    "display(database)"
   ]
  },
  {
   "cell_type": "code",
   "execution_count": 10,
   "id": "b2265129",
   "metadata": {},
   "outputs": [
    {
     "name": "stderr",
     "output_type": "stream",
     "text": [
      "C:\\Users\\Dell\\AppData\\Local\\Temp\\ipykernel_1084\\3193900267.py:46: FutureWarning: Setting an item of incompatible dtype is deprecated and will raise an error in a future version of pandas. Value 'Encontrado' has dtype incompatible with float64, please explicitly cast to a compatible dtype first.\n",
      "  database.loc[row, 'Status'] = 'Encontrado'\n"
     ]
    }
   ],
   "source": [
    "from selenium.webdriver import ActionChains\n",
    "import time\n",
    "\n",
    "for row in database.index:\n",
    "  \n",
    "    # para cada processo (linha da tabela)\n",
    "    driver.get(file)\n",
    "\n",
    "\n",
    "    # abrir a lista de cidades\n",
    "    button = driver.find_element(By.CLASS_NAME, 'dropdown-menu')\n",
    "    ActionChains(driver).move_to_element(button).perform()\n",
    "\n",
    "    city = database.loc[row, 'Cidade']\n",
    "\n",
    "    # selecionando o cidade\n",
    "    driver.find_element(By.PARTIAL_LINK_TEXT, city).click()\n",
    "    # mudar para a nova aba\n",
    "    original_tab = driver.window_handles[0]\n",
    "    index = 1 + row\n",
    "    new_tab = driver.window_handles[index]\n",
    "\n",
    "    driver.switch_to.window(new_tab)\n",
    "\n",
    "    # preencher o formulário com os dados de busca\n",
    "    driver.find_element(By.ID, 'nome').send_keys(database.loc[row, 'Nome'])\n",
    "    driver.find_element(By.ID, 'advogado').send_keys(database.loc[row, 'Advogado'])\n",
    "    driver.find_element(By.ID, 'numero').send_keys(database.loc[row, 'Processo'])\n",
    "\n",
    "    # clicar em pesquisar\n",
    "    driver.find_element(By.CLASS_NAME, 'registerbtn').click()\n",
    "\n",
    "    # confirmar a pesquisa\n",
    "    alert = driver.switch_to.alert\n",
    "    alert.accept()\n",
    "    # esperar o resultado da pesquisa e agir de acordo com o resultado\n",
    "    while True:\n",
    "        try:\n",
    "            alert = driver.switch_to.alert\n",
    "            break\n",
    "        except:\n",
    "            time.sleep(1)\n",
    "    text_alert = alert.text\n",
    "    if 'Processo encontrado com sucesso' in text_alert:\n",
    "        alert.accept()\n",
    "        database.loc[row, 'Status'] = 'Encontrado'\n",
    "    else:\n",
    "        alert.accept()\n",
    "        database.loc[row, 'Status'] = 'Não encontrado'"
   ]
  },
  {
   "cell_type": "code",
   "execution_count": 11,
   "id": "05f5561f",
   "metadata": {},
   "outputs": [
    {
     "data": {
      "text/html": [
       "<div>\n",
       "<style scoped>\n",
       "    .dataframe tbody tr th:only-of-type {\n",
       "        vertical-align: middle;\n",
       "    }\n",
       "\n",
       "    .dataframe tbody tr th {\n",
       "        vertical-align: top;\n",
       "    }\n",
       "\n",
       "    .dataframe thead th {\n",
       "        text-align: right;\n",
       "    }\n",
       "</style>\n",
       "<table border=\"1\" class=\"dataframe\">\n",
       "  <thead>\n",
       "    <tr style=\"text-align: right;\">\n",
       "      <th></th>\n",
       "      <th>Nome</th>\n",
       "      <th>Advogado</th>\n",
       "      <th>Processo</th>\n",
       "      <th>Cidade</th>\n",
       "      <th>Status</th>\n",
       "    </tr>\n",
       "  </thead>\n",
       "  <tbody>\n",
       "    <tr>\n",
       "      <th>0</th>\n",
       "      <td>Lira</td>\n",
       "      <td>Alon Lawyer</td>\n",
       "      <td>PC6592</td>\n",
       "      <td>Distrito Federal</td>\n",
       "      <td>Encontrado</td>\n",
       "    </tr>\n",
       "    <tr>\n",
       "      <th>1</th>\n",
       "      <td>João</td>\n",
       "      <td>Lawyer Alon</td>\n",
       "      <td>EB3792</td>\n",
       "      <td>Rio de Janeiro</td>\n",
       "      <td>Não encontrado</td>\n",
       "    </tr>\n",
       "    <tr>\n",
       "      <th>2</th>\n",
       "      <td>Amanda</td>\n",
       "      <td>Amanda mesmo</td>\n",
       "      <td>MM1043</td>\n",
       "      <td>Rio de Janeiro</td>\n",
       "      <td>Não encontrado</td>\n",
       "    </tr>\n",
       "    <tr>\n",
       "      <th>3</th>\n",
       "      <td>Carol</td>\n",
       "      <td>Amanda</td>\n",
       "      <td>PC5197</td>\n",
       "      <td>São Paulo</td>\n",
       "      <td>Encontrado</td>\n",
       "    </tr>\n",
       "  </tbody>\n",
       "</table>\n",
       "</div>"
      ],
      "text/plain": [
       "     Nome      Advogado Processo            Cidade          Status\n",
       "0    Lira   Alon Lawyer   PC6592  Distrito Federal      Encontrado\n",
       "1    João   Lawyer Alon   EB3792    Rio de Janeiro  Não encontrado\n",
       "2  Amanda  Amanda mesmo   MM1043    Rio de Janeiro  Não encontrado\n",
       "3   Carol        Amanda   PC5197         São Paulo      Encontrado"
      ]
     },
     "metadata": {},
     "output_type": "display_data"
    }
   ],
   "source": [
    "driver.quit()\n",
    "display(database)"
   ]
  }
 ],
 "metadata": {
  "kernelspec": {
   "display_name": "Python 3 (ipykernel)",
   "language": "python",
   "name": "python3"
  },
  "language_info": {
   "codemirror_mode": {
    "name": "ipython",
    "version": 3
   },
   "file_extension": ".py",
   "mimetype": "text/x-python",
   "name": "python",
   "nbconvert_exporter": "python",
   "pygments_lexer": "ipython3",
   "version": "3.12.2"
  }
 },
 "nbformat": 4,
 "nbformat_minor": 5
}
